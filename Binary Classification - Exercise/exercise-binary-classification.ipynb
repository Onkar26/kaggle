{
 "metadata": {
  "jupytext": {
   "cell_metadata_filter": "-all",
   "formats": "ipynb"
  },
  "kernelspec": {
   "display_name": "Python 3",
   "language": "python",
   "name": "python3"
  },
  "language_info": {
   "name": "python",
   "version": "3.7.12",
   "mimetype": "text/x-python",
   "codemirror_mode": {
    "name": "ipython",
    "version": 3
   },
   "pygments_lexer": "ipython3",
   "nbconvert_exporter": "python",
   "file_extension": ".py"
  }
 },
 "nbformat_minor": 4,
 "nbformat": 4,
 "cells": [
  {
   "cell_type": "markdown",
   "source": [
    "**This notebook is an exercise in the [Intro to Deep Learning](https://www.kaggle.com/learn/intro-to-deep-learning) course.  You can reference the tutorial at [this link](https://www.kaggle.com/ryanholbrook/binary-classification).**\n",
    "\n",
    "---\n"
   ],
   "metadata": {}
  },
  {
   "cell_type": "markdown",
   "source": [
    "# Introduction #\n",
    "\n",
    "In this exercise, you'll build a model to predict hotel cancellations with a binary classifier."
   ],
   "metadata": {}
  },
  {
   "cell_type": "code",
   "source": [
    "# Setup plotting\n",
    "import matplotlib.pyplot as plt\n",
    "plt.style.use('seaborn-whitegrid')\n",
    "# Set Matplotlib defaults\n",
    "plt.rc('figure', autolayout=True)\n",
    "plt.rc('axes', labelweight='bold', labelsize='large',\n",
    "       titleweight='bold', titlesize=18, titlepad=10)\n",
    "plt.rc('animation', html='html5')\n",
    "\n",
    "# Setup feedback system\n",
    "from learntools.core import binder\n",
    "binder.bind(globals())\n",
    "from learntools.deep_learning_intro.ex6 import *"
   ],
   "metadata": {
    "lines_to_next_cell": 0,
    "execution": {
     "iopub.status.busy": "2022-11-01T12:00:53.264923Z",
     "iopub.execute_input": "2022-11-01T12:00:53.265277Z",
     "iopub.status.idle": "2022-11-01T12:00:53.310742Z",
     "shell.execute_reply.started": "2022-11-01T12:00:53.265202Z",
     "shell.execute_reply": "2022-11-01T12:00:53.309893Z"
    },
    "trusted": true
   },
   "execution_count": 1,
   "outputs": []
  },
  {
   "cell_type": "markdown",
   "source": [
    "First, load the *Hotel Cancellations* dataset."
   ],
   "metadata": {}
  },
  {
   "cell_type": "code",
   "source": [
    "import pandas as pd\n",
    "\n",
    "from sklearn.model_selection import train_test_split\n",
    "from sklearn.preprocessing import StandardScaler, OneHotEncoder\n",
    "from sklearn.impute import SimpleImputer\n",
    "from sklearn.pipeline import make_pipeline\n",
    "from sklearn.compose import make_column_transformer\n",
    "\n",
    "hotel = pd.read_csv('../input/dl-course-data/hotel.csv')\n",
    "\n",
    "X = hotel.copy()\n",
    "y = X.pop('is_canceled')\n",
    "\n",
    "X['arrival_date_month'] = \\\n",
    "    X['arrival_date_month'].map(\n",
    "        {'January':1, 'February': 2, 'March':3,\n",
    "         'April':4, 'May':5, 'June':6, 'July':7,\n",
    "         'August':8, 'September':9, 'October':10,\n",
    "         'November':11, 'December':12}\n",
    "    )\n",
    "\n",
    "features_num = [\n",
    "    \"lead_time\", \"arrival_date_week_number\",\n",
    "    \"arrival_date_day_of_month\", \"stays_in_weekend_nights\",\n",
    "    \"stays_in_week_nights\", \"adults\", \"children\", \"babies\",\n",
    "    \"is_repeated_guest\", \"previous_cancellations\",\n",
    "    \"previous_bookings_not_canceled\", \"required_car_parking_spaces\",\n",
    "    \"total_of_special_requests\", \"adr\",\n",
    "]\n",
    "features_cat = [\n",
    "    \"hotel\", \"arrival_date_month\", \"meal\",\n",
    "    \"market_segment\", \"distribution_channel\",\n",
    "    \"reserved_room_type\", \"deposit_type\", \"customer_type\",\n",
    "]\n",
    "\n",
    "transformer_num = make_pipeline(\n",
    "    SimpleImputer(strategy=\"constant\"), # there are a few missing values\n",
    "    StandardScaler(),\n",
    ")\n",
    "transformer_cat = make_pipeline(\n",
    "    SimpleImputer(strategy=\"constant\", fill_value=\"NA\"),\n",
    "    OneHotEncoder(handle_unknown='ignore'),\n",
    ")\n",
    "\n",
    "preprocessor = make_column_transformer(\n",
    "    (transformer_num, features_num),\n",
    "    (transformer_cat, features_cat),\n",
    ")\n",
    "\n",
    "# stratify - make sure classes are evenlly represented across splits\n",
    "X_train, X_valid, y_train, y_valid = \\\n",
    "    train_test_split(X, y, stratify=y, train_size=0.75)\n",
    "\n",
    "X_train = preprocessor.fit_transform(X_train)\n",
    "X_valid = preprocessor.transform(X_valid)\n",
    "\n",
    "input_shape = [X_train.shape[1]]"
   ],
   "metadata": {
    "lines_to_next_cell": 2,
    "execution": {
     "iopub.status.busy": "2022-11-01T12:01:32.885195Z",
     "iopub.execute_input": "2022-11-01T12:01:32.886061Z",
     "iopub.status.idle": "2022-11-01T12:01:33.727955Z",
     "shell.execute_reply.started": "2022-11-01T12:01:32.886013Z",
     "shell.execute_reply": "2022-11-01T12:01:33.727003Z"
    },
    "trusted": true
   },
   "execution_count": 3,
   "outputs": []
  },
  {
   "cell_type": "markdown",
   "source": [
    "# 1) Define Model #\n",
    "\n",
    "The model we'll use this time will have both batch normalization and dropout layers. To ease reading we've broken the diagram into blocks, but you can define it layer by layer as usual.\n",
    "\n",
    "Define a model with an architecture given by this diagram:\n",
    "\n",
    "<figure style=\"padding: 1em;\">\n",
    "<img src=\"https://i.imgur.com/V04o59Z.png\" width=\"400\" alt=\"Diagram of network architecture: BatchNorm, Dense, BatchNorm, Dropout, Dense, BatchNorm, Dropout, Dense.\">\n",
    "<figcaption style=\"textalign: center; font-style: italic\"><center>Diagram of a binary classifier.</center></figcaption>\n",
    "</figure>\n"
   ],
   "metadata": {}
  },
  {
   "cell_type": "code",
   "source": [
    "from tensorflow import keras\n",
    "from tensorflow.keras import layers\n",
    "\n",
    "# YOUR CODE HERE: define the model given in the diagram\n",
    "model = keras.Sequential([\n",
    "    layers.BatchNormalization(input_shape=input_shape),\n",
    "    layers.Dense(256, activation='relu'),\n",
    "    layers.BatchNormalization(),\n",
    "    layers.Dropout(0.3),\n",
    "    layers.Dense(256, activation='relu'),\n",
    "    layers.BatchNormalization(),\n",
    "    layers.Dropout(0.3),\n",
    "    layers.Dense(1, activation='sigmoid')\n",
    "])\n",
    "\n",
    "# Check your answer\n",
    "q_1.check()"
   ],
   "metadata": {
    "lines_to_next_cell": 2,
    "execution": {
     "iopub.status.busy": "2022-11-01T12:05:15.334659Z",
     "iopub.execute_input": "2022-11-01T12:05:15.335030Z",
     "iopub.status.idle": "2022-11-01T12:05:23.765785Z",
     "shell.execute_reply.started": "2022-11-01T12:05:15.335000Z",
     "shell.execute_reply": "2022-11-01T12:05:23.764901Z"
    },
    "trusted": true
   },
   "execution_count": 4,
   "outputs": [
    {
     "name": "stderr",
     "text": "2022-11-01 12:05:20.807918: I tensorflow/stream_executor/cuda/cuda_gpu_executor.cc:937] successful NUMA node read from SysFS had negative value (-1), but there must be at least one NUMA node, so returning NUMA node zero\n2022-11-01 12:05:20.902963: I tensorflow/stream_executor/cuda/cuda_gpu_executor.cc:937] successful NUMA node read from SysFS had negative value (-1), but there must be at least one NUMA node, so returning NUMA node zero\n2022-11-01 12:05:20.903810: I tensorflow/stream_executor/cuda/cuda_gpu_executor.cc:937] successful NUMA node read from SysFS had negative value (-1), but there must be at least one NUMA node, so returning NUMA node zero\n2022-11-01 12:05:20.905576: I tensorflow/core/platform/cpu_feature_guard.cc:142] This TensorFlow binary is optimized with oneAPI Deep Neural Network Library (oneDNN) to use the following CPU instructions in performance-critical operations:  AVX2 AVX512F FMA\nTo enable them in other operations, rebuild TensorFlow with the appropriate compiler flags.\n2022-11-01 12:05:20.905894: I tensorflow/stream_executor/cuda/cuda_gpu_executor.cc:937] successful NUMA node read from SysFS had negative value (-1), but there must be at least one NUMA node, so returning NUMA node zero\n2022-11-01 12:05:20.906603: I tensorflow/stream_executor/cuda/cuda_gpu_executor.cc:937] successful NUMA node read from SysFS had negative value (-1), but there must be at least one NUMA node, so returning NUMA node zero\n2022-11-01 12:05:20.907260: I tensorflow/stream_executor/cuda/cuda_gpu_executor.cc:937] successful NUMA node read from SysFS had negative value (-1), but there must be at least one NUMA node, so returning NUMA node zero\n2022-11-01 12:05:23.181172: I tensorflow/stream_executor/cuda/cuda_gpu_executor.cc:937] successful NUMA node read from SysFS had negative value (-1), but there must be at least one NUMA node, so returning NUMA node zero\n2022-11-01 12:05:23.182093: I tensorflow/stream_executor/cuda/cuda_gpu_executor.cc:937] successful NUMA node read from SysFS had negative value (-1), but there must be at least one NUMA node, so returning NUMA node zero\n2022-11-01 12:05:23.182908: I tensorflow/stream_executor/cuda/cuda_gpu_executor.cc:937] successful NUMA node read from SysFS had negative value (-1), but there must be at least one NUMA node, so returning NUMA node zero\n2022-11-01 12:05:23.183502: I tensorflow/core/common_runtime/gpu/gpu_device.cc:1510] Created device /job:localhost/replica:0/task:0/device:GPU:0 with 15401 MB memory:  -> device: 0, name: Tesla P100-PCIE-16GB, pci bus id: 0000:00:04.0, compute capability: 6.0\n",
     "output_type": "stream"
    },
    {
     "output_type": "display_data",
     "data": {
      "text/plain": "<IPython.core.display.Javascript object>",
      "application/javascript": "parent.postMessage({\"jupyterEvent\": \"custom.exercise_interaction\", \"data\": {\"outcomeType\": 1, \"valueTowardsCompletion\": 0.3333333333333333, \"interactionType\": 1, \"questionType\": 2, \"questionId\": \"1_Q1\", \"learnToolsVersion\": \"0.3.4\", \"failureMessage\": \"\", \"exceptionClass\": \"\", \"trace\": \"\"}}, \"*\")"
     },
     "metadata": {}
    },
    {
     "output_type": "display_data",
     "data": {
      "text/plain": "Correct",
      "text/markdown": "<span style=\"color:#33cc33\">Correct</span>"
     },
     "metadata": {}
    }
   ]
  },
  {
   "cell_type": "markdown",
   "source": [
    "# 2) Add Optimizer, Loss, and Metric #\n",
    "\n",
    "Now compile the model with the Adam optimizer and binary versions of the cross-entropy loss and accuracy metric."
   ],
   "metadata": {}
  },
  {
   "cell_type": "code",
   "source": [
    "# YOUR CODE HERE\n",
    "model.compile(\n",
    "    optimizer='adam',\n",
    "    loss='binary_crossentropy',\n",
    "    metrics=['binary_accuracy']\n",
    ")\n",
    "\n",
    "# Check your answer\n",
    "q_2.check()"
   ],
   "metadata": {
    "lines_to_next_cell": 0,
    "execution": {
     "iopub.status.busy": "2022-11-01T12:07:32.335946Z",
     "iopub.execute_input": "2022-11-01T12:07:32.336663Z",
     "iopub.status.idle": "2022-11-01T12:07:32.357449Z",
     "shell.execute_reply.started": "2022-11-01T12:07:32.336626Z",
     "shell.execute_reply": "2022-11-01T12:07:32.356606Z"
    },
    "trusted": true
   },
   "execution_count": 5,
   "outputs": [
    {
     "output_type": "display_data",
     "data": {
      "text/plain": "<IPython.core.display.Javascript object>",
      "application/javascript": "parent.postMessage({\"jupyterEvent\": \"custom.exercise_interaction\", \"data\": {\"outcomeType\": 1, \"valueTowardsCompletion\": 0.3333333333333333, \"interactionType\": 1, \"questionType\": 2, \"questionId\": \"2_Q2\", \"learnToolsVersion\": \"0.3.4\", \"failureMessage\": \"\", \"exceptionClass\": \"\", \"trace\": \"\"}}, \"*\")"
     },
     "metadata": {}
    },
    {
     "output_type": "display_data",
     "data": {
      "text/plain": "Correct",
      "text/markdown": "<span style=\"color:#33cc33\">Correct</span>"
     },
     "metadata": {}
    }
   ]
  },
  {
   "cell_type": "code",
   "source": [
    "# Lines below will give you a hint or solution code\n",
    "#q_2.hint()\n",
    "#q_2.solution()"
   ],
   "metadata": {
    "lines_to_next_cell": 0
   },
   "execution_count": null,
   "outputs": []
  },
  {
   "cell_type": "markdown",
   "source": [
    "Finally, run this cell to train the model and view the learning curves. It may run for around 60 to 70 epochs, which could take a minute or two."
   ],
   "metadata": {}
  },
  {
   "cell_type": "code",
   "source": [
    "early_stopping = keras.callbacks.EarlyStopping(\n",
    "    patience=5,\n",
    "    min_delta=0.001,\n",
    "    restore_best_weights=True,\n",
    ")\n",
    "history = model.fit(\n",
    "    X_train, y_train,\n",
    "    validation_data=(X_valid, y_valid),\n",
    "    batch_size=512,\n",
    "    epochs=200,\n",
    "    callbacks=[early_stopping],\n",
    ")\n",
    "\n",
    "history_df = pd.DataFrame(history.history)\n",
    "history_df.loc[:, ['loss', 'val_loss']].plot(title=\"Cross-entropy\")\n",
    "history_df.loc[:, ['binary_accuracy', 'val_binary_accuracy']].plot(title=\"Accuracy\")"
   ],
   "metadata": {
    "execution": {
     "iopub.status.busy": "2022-11-01T12:07:38.256487Z",
     "iopub.execute_input": "2022-11-01T12:07:38.256859Z",
     "iopub.status.idle": "2022-11-01T12:08:20.760369Z",
     "shell.execute_reply.started": "2022-11-01T12:07:38.256826Z",
     "shell.execute_reply": "2022-11-01T12:08:20.759288Z"
    },
    "trusted": true
   },
   "execution_count": 6,
   "outputs": [
    {
     "name": "stderr",
     "text": "2022-11-01 12:07:38.383367: I tensorflow/compiler/mlir/mlir_graph_optimization_pass.cc:185] None of the MLIR Optimization Passes are enabled (registered 2)\n",
     "output_type": "stream"
    },
    {
     "name": "stdout",
     "text": "Epoch 1/200\n175/175 [==============================] - 3s 5ms/step - loss: 0.4726 - binary_accuracy: 0.7768 - val_loss: 0.4328 - val_binary_accuracy: 0.8068\nEpoch 2/200\n175/175 [==============================] - 1s 4ms/step - loss: 0.4212 - binary_accuracy: 0.8035 - val_loss: 0.4041 - val_binary_accuracy: 0.8081\nEpoch 3/200\n175/175 [==============================] - 1s 6ms/step - loss: 0.4077 - binary_accuracy: 0.8101 - val_loss: 0.3959 - val_binary_accuracy: 0.8153\nEpoch 4/200\n175/175 [==============================] - 1s 7ms/step - loss: 0.4009 - binary_accuracy: 0.8125 - val_loss: 0.3942 - val_binary_accuracy: 0.8186\nEpoch 5/200\n175/175 [==============================] - 2s 9ms/step - loss: 0.3972 - binary_accuracy: 0.8159 - val_loss: 0.3889 - val_binary_accuracy: 0.8196\nEpoch 6/200\n175/175 [==============================] - 1s 8ms/step - loss: 0.3903 - binary_accuracy: 0.8188 - val_loss: 0.3852 - val_binary_accuracy: 0.8214\nEpoch 7/200\n175/175 [==============================] - 1s 5ms/step - loss: 0.3888 - binary_accuracy: 0.8203 - val_loss: 0.3834 - val_binary_accuracy: 0.8220\nEpoch 8/200\n175/175 [==============================] - 1s 5ms/step - loss: 0.3847 - binary_accuracy: 0.8218 - val_loss: 0.3796 - val_binary_accuracy: 0.8248\nEpoch 9/200\n175/175 [==============================] - 1s 5ms/step - loss: 0.3810 - binary_accuracy: 0.8237 - val_loss: 0.3763 - val_binary_accuracy: 0.8251\nEpoch 10/200\n175/175 [==============================] - 1s 4ms/step - loss: 0.3784 - binary_accuracy: 0.8254 - val_loss: 0.3777 - val_binary_accuracy: 0.8256\nEpoch 11/200\n175/175 [==============================] - 1s 4ms/step - loss: 0.3776 - binary_accuracy: 0.8254 - val_loss: 0.3738 - val_binary_accuracy: 0.8288\nEpoch 12/200\n175/175 [==============================] - 1s 4ms/step - loss: 0.3738 - binary_accuracy: 0.8287 - val_loss: 0.3738 - val_binary_accuracy: 0.8277\nEpoch 13/200\n175/175 [==============================] - 1s 4ms/step - loss: 0.3715 - binary_accuracy: 0.8283 - val_loss: 0.3694 - val_binary_accuracy: 0.8285\nEpoch 14/200\n175/175 [==============================] - 1s 4ms/step - loss: 0.3689 - binary_accuracy: 0.8301 - val_loss: 0.3682 - val_binary_accuracy: 0.8291\nEpoch 15/200\n175/175 [==============================] - 1s 4ms/step - loss: 0.3682 - binary_accuracy: 0.8312 - val_loss: 0.3662 - val_binary_accuracy: 0.8302\nEpoch 16/200\n175/175 [==============================] - 1s 4ms/step - loss: 0.3649 - binary_accuracy: 0.8320 - val_loss: 0.3648 - val_binary_accuracy: 0.8316\nEpoch 17/200\n175/175 [==============================] - 1s 4ms/step - loss: 0.3635 - binary_accuracy: 0.8335 - val_loss: 0.3647 - val_binary_accuracy: 0.8311\nEpoch 18/200\n175/175 [==============================] - 1s 5ms/step - loss: 0.3624 - binary_accuracy: 0.8336 - val_loss: 0.3635 - val_binary_accuracy: 0.8325\nEpoch 19/200\n175/175 [==============================] - 1s 6ms/step - loss: 0.3598 - binary_accuracy: 0.8340 - val_loss: 0.3635 - val_binary_accuracy: 0.8316\nEpoch 20/200\n175/175 [==============================] - 1s 4ms/step - loss: 0.3587 - binary_accuracy: 0.8344 - val_loss: 0.3608 - val_binary_accuracy: 0.8326\nEpoch 21/200\n175/175 [==============================] - 1s 4ms/step - loss: 0.3578 - binary_accuracy: 0.8350 - val_loss: 0.3616 - val_binary_accuracy: 0.8333\nEpoch 22/200\n175/175 [==============================] - 1s 4ms/step - loss: 0.3560 - binary_accuracy: 0.8378 - val_loss: 0.3603 - val_binary_accuracy: 0.8330\nEpoch 23/200\n175/175 [==============================] - 1s 5ms/step - loss: 0.3545 - binary_accuracy: 0.8376 - val_loss: 0.3586 - val_binary_accuracy: 0.8345\nEpoch 24/200\n175/175 [==============================] - 1s 4ms/step - loss: 0.3534 - binary_accuracy: 0.8377 - val_loss: 0.3608 - val_binary_accuracy: 0.8321\nEpoch 25/200\n175/175 [==============================] - 1s 4ms/step - loss: 0.3519 - binary_accuracy: 0.8380 - val_loss: 0.3586 - val_binary_accuracy: 0.8345\nEpoch 26/200\n175/175 [==============================] - 1s 4ms/step - loss: 0.3519 - binary_accuracy: 0.8373 - val_loss: 0.3584 - val_binary_accuracy: 0.8338\nEpoch 27/200\n175/175 [==============================] - 1s 4ms/step - loss: 0.3503 - binary_accuracy: 0.8388 - val_loss: 0.3581 - val_binary_accuracy: 0.8335\nEpoch 28/200\n175/175 [==============================] - 1s 4ms/step - loss: 0.3492 - binary_accuracy: 0.8393 - val_loss: 0.3585 - val_binary_accuracy: 0.8343\n",
     "output_type": "stream"
    },
    {
     "execution_count": 6,
     "output_type": "execute_result",
     "data": {
      "text/plain": "<AxesSubplot:title={'center':'Accuracy'}>"
     },
     "metadata": {}
    },
    {
     "output_type": "display_data",
     "data": {
      "text/plain": "<Figure size 432x288 with 1 Axes>",
      "image/png": "[encoded data removed]"
     },
     "metadata": {}
    },
    {
     "output_type": "display_data",
     "data": {
      "text/plain": "<Figure size 432x288 with 1 Axes>",
      "image/png": "[encoded data removed]"
     },
     "metadata": {}
    }
   ]
  },
  {
   "cell_type": "markdown",
   "source": [
    "# 3) Train and Evaluate #\n",
    "\n",
    "\n",
    "What do you think about the learning curves? Does it look like the model underfit or overfit? Was the cross-entropy loss a good stand-in for accuracy?"
   ],
   "metadata": {}
  },
  {
   "cell_type": "code",
   "source": [
    "# View the solution (Run this cell to receive credit!)\n",
    "q_3.check()"
   ],
   "metadata": {
    "execution": {
     "iopub.status.busy": "2022-11-01T12:08:42.566293Z",
     "iopub.execute_input": "2022-11-01T12:08:42.566652Z",
     "iopub.status.idle": "2022-11-01T12:08:42.575813Z",
     "shell.execute_reply.started": "2022-11-01T12:08:42.566622Z",
     "shell.execute_reply": "2022-11-01T12:08:42.574766Z"
    },
    "trusted": true
   },
   "execution_count": 7,
   "outputs": [
    {
     "output_type": "display_data",
     "data": {
      "text/plain": "<IPython.core.display.Javascript object>",
      "application/javascript": "parent.postMessage({\"jupyterEvent\": \"custom.exercise_interaction\", \"data\": {\"outcomeType\": 1, \"valueTowardsCompletion\": 0.3333333333333333, \"interactionType\": 1, \"questionType\": 4, \"questionId\": \"3_Q3\", \"learnToolsVersion\": \"0.3.4\", \"failureMessage\": \"\", \"exceptionClass\": \"\", \"trace\": \"\"}}, \"*\")"
     },
     "metadata": {}
    },
    {
     "output_type": "display_data",
     "data": {
      "text/plain": "Correct: \n\nThough we can see the training loss continuing to fall, the early stopping callback prevented any overfitting. Moreover, the accuracy rose at the same rate as the cross-entropy fell, so it appears that minimizing cross-entropy was a good stand-in. All in all, it looks like this training was a success!",
      "text/markdown": "<span style=\"color:#33cc33\">Correct:</span> \n\nThough we can see the training loss continuing to fall, the early stopping callback prevented any overfitting. Moreover, the accuracy rose at the same rate as the cross-entropy fell, so it appears that minimizing cross-entropy was a good stand-in. All in all, it looks like this training was a success!"
     },
     "metadata": {}
    }
   ]
  },
  {
   "cell_type": "markdown",
   "source": [
    "# Conclusion #\n",
    "\n",
    "Congratulations! You've completed Kaggle's *Introduction to Deep Learning* course!\n",
    "\n",
    "With your new skills you're ready to take on more advanced applications like computer vision and sentiment classification. What would you like to do next?\n",
    "\n",
    "Why not try one of our *Getting Started* competitions?\n",
    "\n",
    "- Classify images with TPUs in [**Petals to the Metal**](https://www.kaggle.com/c/tpu-getting-started)\n",
    "- Create art with GANs in [**I'm Something of a Painter Myself**](https://www.kaggle.com/c/gan-getting-started)\n",
    "- Classify Tweets in [**Real or Not? NLP with Disaster Tweets**](https://www.kaggle.com/c/nlp-getting-started)\n",
    "- Detect contradiction and entailment in [**Contradictory, My Dear Watson**](https://www.kaggle.com/c/contradictory-my-dear-watson)\n",
    "\n",
    "Until next time, Kagglers!"
   ],
   "metadata": {}
  },
  {
   "cell_type": "markdown",
   "source": [
    "---\n",
    "\n",
    "\n",
    "\n",
    "\n",
    "*Have questions or comments? Visit the [course discussion forum](https://www.kaggle.com/learn/intro-to-deep-learning/discussion) to chat with other learners.*"
   ],
   "metadata": {}
  }
 ]
}
